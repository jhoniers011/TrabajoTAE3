{
  "nbformat": 4,
  "nbformat_minor": 0,
  "metadata": {
    "colab": {
      "name": "TrabajoTae3.ipynb",
      "provenance": [],
      "authorship_tag": "ABX9TyOIBAXaruD1Do8dX8Ou/WLR",
      "include_colab_link": true
    },
    "kernelspec": {
      "name": "python3",
      "display_name": "Python 3"
    },
    "language_info": {
      "name": "python"
    }
  },
  "cells": [
    {
      "cell_type": "markdown",
      "metadata": {
        "id": "view-in-github",
        "colab_type": "text"
      },
      "source": [
        "<a href=\"https://colab.research.google.com/github/jhoniers011/TrabajoTAE3/blob/main/TrabajoTae3.ipynb\" target=\"_parent\"><img src=\"https://colab.research.google.com/assets/colab-badge.svg\" alt=\"Open In Colab\"/></a>"
      ]
    },
    {
      "cell_type": "markdown",
      "metadata": {
        "id": "68KpC7yk3gN0"
      },
      "source": [
        "Lectura de datos\n",
        "\n",
        "Se cargan las imágenes contenidas en el repositorio de github al entorno de Colab."
      ]
    },
    {
      "cell_type": "code",
      "metadata": {
        "id": "y_RKWN8T0Gfe",
        "colab": {
          "base_uri": "https://localhost:8080/"
        },
        "outputId": "0a2bed26-7a96-4bf2-9e47-8628f6ee038c"
      },
      "source": [
        "import zipfile\n",
        "import os\n",
        "\n",
        "\n",
        "!wget --no-check-certificate \\\n",
        "    \"https://github.com/jhoniers011/TrabajoTAE3/archive/refs/heads/main.zip\" \\ #Link del repositorio de github\n",
        "    -O \"/tmp/imagenes.zip\"\n",
        "\n",
        "\n",
        "zip_ref = zipfile.ZipFile('/tmp/imagenes.zip', 'r') #Abre el archivo.zip en modo lectura\n",
        "zip_ref.extractall('/tmp') #Extrae los archivos en la carpeta /tmp\n",
        "zip_ref.close()\n",
        "\n"
      ],
      "execution_count": 1,
      "outputs": [
        {
          "output_type": "stream",
          "text": [
            "--2021-08-17 21:34:42--  https://github.com/jhoniers011/TrabajoTAE3/archive/refs/heads/main.zip\n",
            "Resolving github.com (github.com)... 140.82.112.3\n",
            "Connecting to github.com (github.com)|140.82.112.3|:443... connected.\n",
            "HTTP request sent, awaiting response... 302 Found\n",
            "Location: https://codeload.github.com/jhoniers011/TrabajoTAE3/zip/refs/heads/main [following]\n",
            "--2021-08-17 21:34:42--  https://codeload.github.com/jhoniers011/TrabajoTAE3/zip/refs/heads/main\n",
            "Resolving codeload.github.com (codeload.github.com)... 140.82.112.9\n",
            "Connecting to codeload.github.com (codeload.github.com)|140.82.112.9|:443... connected.\n",
            "HTTP request sent, awaiting response... 200 OK\n",
            "Length: unspecified [application/zip]\n",
            "Saving to: ‘/tmp/imagenes.zip’\n",
            "\n",
            "/tmp/imagenes.zip       [           <=>      ]   7.60M  3.52MB/s    in 2.2s    \n",
            "\n",
            "2021-08-17 21:34:45 (3.52 MB/s) - ‘/tmp/imagenes.zip’ saved [7971945]\n",
            "\n"
          ],
          "name": "stdout"
        }
      ]
    },
    {
      "cell_type": "code",
      "metadata": {
        "id": "Usp15furCe6p"
      },
      "source": [
        "import cv2 as cv\n",
        "import glob\n",
        "from google.colab.patches import cv2_imshow\n",
        "\n",
        "files = glob.glob('/tmp/TrabajoTAE3-main/Imagenes/**/*.pgm',recursive=True) #Se obtienen todas las url de las imágenes.\n",
        "files"
      ],
      "execution_count": null,
      "outputs": []
    },
    {
      "cell_type": "markdown",
      "metadata": {
        "id": "QUl7ZWvvFAT8"
      },
      "source": [
        "Lectura de imagenes"
      ]
    },
    {
      "cell_type": "code",
      "metadata": {
        "colab": {
          "base_uri": "https://localhost:8080/",
          "height": 137
        },
        "id": "MvFzgm48E-45",
        "outputId": "5ef666f1-e3c9-4b2a-bd19-86f1b981338f"
      },
      "source": [
        "imagenes = [cv.imread(imagen,-1) for imagen in files] #Se cargan las imágenes y se guardan en una lista\n",
        "cv2_imshow(imagenes[100])\n",
        "\n"
      ],
      "execution_count": 29,
      "outputs": [
        {
          "output_type": "display_data",
          "data": {
            "image/png": "[encoded data removed]",
            "text/plain": [
              "<PIL.Image.Image image mode=L size=128x120 at 0x7F70008FBA10>"
            ]
          },
          "metadata": {
            "tags": []
          }
        }
      ]
    },
    {
      "cell_type": "code",
      "metadata": {
        "colab": {
          "base_uri": "https://localhost:8080/",
          "height": 265
        },
        "id": "noyi1Fh4osky",
        "outputId": "638ab08c-a9ef-4dec-908e-d86e80533e05"
      },
      "source": [
        "from matplotlib import pyplot as plt\n",
        "#hist = cv.calcHist(imagenes[100],[0],None,[256],[0,256])\n",
        "#plt.figure()\n",
        "#plt.plot(hist)\n",
        "#plt.xlim([0,256])\n",
        "#plt.show()\n",
        "plt.hist(imagenes[100].ravel(),256,[0,256])\n",
        "plt.show()"
      ],
      "execution_count": 65,
      "outputs": [
        {
          "output_type": "display_data",
          "data": {
            "image/png": "[encoded data removed]",
            "text/plain": [
              "<Figure size 432x288 with 1 Axes>"
            ]
          },
          "metadata": {
            "tags": [],
            "needs_background": "light"
          }
        }
      ]
    },
    {
      "cell_type": "markdown",
      "metadata": {
        "id": "xxNeQjtflfAE"
      },
      "source": [
        "Segmentación de las imágenes\n",
        "Se aplica la tecnica de umbral, donde dado un valor limite, los valores menores se cambian a 0 y los mayores a 255, por lo que queda una imagen binarizada. Util para resaltar caracteristicas de las imágenes."
      ]
    },
    {
      "cell_type": "code",
      "metadata": {
        "colab": {
          "base_uri": "https://localhost:8080/",
          "height": 137
        },
        "id": "PpJ01mnAGxb9",
        "outputId": "9e538ecf-dec4-430b-b2c6-9affe76ef138"
      },
      "source": [
        "threshold_images = []\n",
        "\n",
        "for imagen in imagenes:\n",
        "  T,sal = cv.threshold(imagen,100,255,cv.THRESH_BINARY)\n",
        "  threshold_images.append(sal)\n",
        "\n",
        "cv2_imshow(threshold_images[100])\n"
      ],
      "execution_count": 73,
      "outputs": [
        {
          "output_type": "display_data",
          "data": {
            "image/png": "[encoded data removed]",
            "text/plain": [
              "<PIL.Image.Image image mode=L size=128x120 at 0x7F70007EB110>"
            ]
          },
          "metadata": {
            "tags": []
          }
        }
      ]
    }
  ]
}