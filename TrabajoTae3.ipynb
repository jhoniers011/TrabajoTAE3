{
  "nbformat": 4,
  "nbformat_minor": 0,
  "metadata": {
    "accelerator": "GPU",
    "colab": {
      "name": "TrabajoTae3.ipynb",
      "provenance": [],
      "include_colab_link": true
    },
    "kernelspec": {
      "display_name": "Python 3",
      "language": "python",
      "name": "python3"
    },
    "language_info": {
      "codemirror_mode": {
        "name": "ipython",
        "version": 3
      },
      "file_extension": ".py",
      "mimetype": "text/x-python",
      "name": "python",
      "nbconvert_exporter": "python",
      "pygments_lexer": "ipython3",
      "version": "3.8.5"
    }
  },
  "cells": [
    {
      "cell_type": "markdown",
      "metadata": {
        "id": "view-in-github",
        "colab_type": "text"
      },
      "source": [
        "<a href=\"https://colab.research.google.com/github/jhoniers011/TrabajoTAE3/blob/main/TrabajoTae3.ipynb\" target=\"_parent\"><img src=\"https://colab.research.google.com/assets/colab-badge.svg\" alt=\"Open In Colab\"/></a>"
      ]
    },
    {
      "cell_type": "markdown",
      "metadata": {
        "id": "zkbTP0c4scGv"
      },
      "source": [
        "# Modelo de aprendizaje estadístico para clasificar imágenes de sujetos con gafas\n",
        "---\n",
        "\n",
        "\n",
        "##### Carlos Mario Calle González\n",
        "##### Catherine Andrea Córdoba Espinosa\n",
        "##### Allison Piedrahita García\n",
        "##### Santiago Ramírez Zapata\n",
        "##### Jhonier Santiago Serna Cardona\n",
        "\n",
        "19/08/2021\n",
        "\n",
        "\n",
        "### **Objetivo** \n",
        "<div style=\"text-align: justify;width:100%;margin: 0 auto\"> \n",
        "Construir y validar un modelo de aprendizaje estadístico para clasificar imágenes de sujetos con gafas de un conjunto de datos.\n",
        "</div>\n",
        "    \n",
        "### **Planteamiento del problema**\n",
        "<div style=\"text-align: justify;width:100%;margin: 0 auto\"> \n",
        "Se cuenta con una base de datos de 640 imágenes en blanco y negro, en las cuales se pueden observar fotografías de 20 personas desde diferentes ángulos como:\n",
        "</div>\n",
        "\n",
        "*   ***Frontal:*** la posición de la persona es recta y mirando directamente al lente de la cámara.\n",
        "*   ***Lateral izquierdo:*** la posición de la persona es el perfil izquierdo, es decir, la persona se encuentra mirando hacia el lado izquierdo tomando como referencia la posición de la cámara. \n",
        "*   ***Lateral derecho:*** la posición de la persona es el perfil derecho, es decir, la persona se encuentra mirando hacia el lado derecho tomando como referencia la posición de la cámara. \n",
        "*   ***Frontal superior:*** la posición de la persona es recta pero se encuentra mirando hacia arriba respecto a la posición de la cámara. \n",
        "\n",
        "<div style=\"text-align: justify;width:100%;margin: 0 auto\"> \n",
        "Adicionalmente, se realizan variaciones para cada persona y para cada una de las posiciones, teniendo en cuenta cuatro expresiones faciales: feliz, triste, enojado y neutral. Asimismo, se toman fotografías para cada variación con gafas y sin gafas. Finalmente, se obtienen combinaciones como:\n",
        "</div>\n",
        "\n",
        "*   Mitchell, en posición frontal con expresión facial de enojo y con gafas (mitchell_straight_angry_sunglasses).\n",
        "*   Danieln, en posición lateral izquierdo con expresión facial neutra y sin gafas (danieln_left_neutral_open)\n",
        "\n",
        "<div style=\"text-align: justify;width:100%;margin: 0 auto\"> \n",
        "Por otra parte, se evidencia que no todas las personas tienen las 32 fotografías de la combinación de las variaciones, hay personas que poseen mínimamente 28 imágenes, esto es debido a problemas en la adquisición de las fotografías con la cámara empleada. Además, se cuentan con tres tipos de resoluciones diferentes: alta, media y baja. Para este caso, se seleccionaron las imágenes con resolución alta (128 columnas x 120 filas). \n",
        "<br>\n",
        "    \n",
        "El propósito que se tiene con la base de datos es crear un modelo de aprendizaje estadístico que permita clasificar las imágenes en:\n",
        "</div>\n",
        "\n",
        "**1.**   ***Personas con gafas***\n",
        "<br>\n",
        "**2.**   ***Personas sin gafas***"
      ]
    },
    {
      "cell_type": "markdown",
      "metadata": {
        "id": "LYm0nMBiscGz"
      },
      "source": [
        "### **Desarrollo del problema** \n",
        "Se inicia el desarrollo del promedio por medio de la importación de las librerias a utilizar:"
      ]
    },
    {
      "cell_type": "code",
      "metadata": {
        "id": "pf-7B9f1VNcq"
      },
      "source": [
        "#Librerias\n",
        "import zipfile\n",
        "import os\n",
        "import cv2 as cv\n",
        "import numpy as np\n",
        "import glob\n",
        "import pandas as pd\n",
        "import seaborn as sns\n",
        "from matplotlib import pyplot as plt\n",
        "from sklearn.svm import SVC\n",
        "from sklearn.model_selection import train_test_split\n",
        "from sklearn.model_selection import GridSearchCV\n",
        "from sklearn.metrics import accuracy_score\n",
        "from sklearn import preprocessing\n",
        "from sklearn.neighbors import KNeighborsClassifier\n",
        "from sklearn import metrics\n",
        "from sklearn.metrics import plot_confusion_matrix\n",
        "from sklearn.metrics import classification_report"
      ],
      "execution_count": 1,
      "outputs": []
    },
    {
      "cell_type": "markdown",
      "metadata": {
        "id": "68KpC7yk3gN0"
      },
      "source": [
        "#### **Lectura de datos**\n",
        "\n",
        "Se cargan las imágenes contenidas en el repositorio de github al entorno de Colab."
      ]
    },
    {
      "cell_type": "code",
      "metadata": {
        "id": "y_RKWN8T0Gfe"
      },
      "source": [
        "%%capture\n",
        " #Link del repositorio de github\n",
        "!wget --no-check-certificate \\\n",
        "    \"https://github.com/jhoniers011/TrabajoTAE3/archive/refs/heads/main.zip\" \\\n",
        "    -O \"/tmp/imagenes.zip\"\n",
        "\n",
        "\n",
        "zip_ref = zipfile.ZipFile('/tmp/imagenes.zip', 'r') #Abre el archivo.zip en modo lectura\n",
        "zip_ref.extractall('/tmp') #Extrae los archivos en la carpeta /tmp\n",
        "zip_ref.close()"
      ],
      "execution_count": 2,
      "outputs": []
    },
    {
      "cell_type": "code",
      "metadata": {
        "id": "Usp15furCe6p"
      },
      "source": [
        "files = glob.glob('/tmp/TrabajoTAE3-main/Imagenes/**/*.pgm',recursive=True) #Se obtienen todas las url de las imágenes."
      ],
      "execution_count": 3,
      "outputs": []
    },
    {
      "cell_type": "markdown",
      "metadata": {
        "id": "QUl7ZWvvFAT8"
      },
      "source": [
        "#### **Lectura de imágenes**"
      ]
    },
    {
      "cell_type": "code",
      "metadata": {
        "id": "94v-BqNPscG6"
      },
      "source": [
        "imagenes = [cv.imread(imagen,-1) for imagen in files] #Se cargan las imágenes y se guardan en una lista"
      ],
      "execution_count": 4,
      "outputs": []
    },
    {
      "cell_type": "markdown",
      "metadata": {
        "id": "988naOwCscG7"
      },
      "source": [
        "#### **Exploración de la base de datos**"
      ]
    },
    {
      "cell_type": "code",
      "metadata": {
        "colab": {
          "base_uri": "https://localhost:8080/",
          "height": 216
        },
        "id": "MvFzgm48E-45",
        "outputId": "035cd317-4ae8-471f-9110-917d9d961923"
      },
      "source": [
        "#Imprimir ejemplos de imágenes del dataset\n",
        "fig = plt.figure(figsize=(4, 3))\n",
        "fig.suptitle(\"Ejemplo de imágenes del dataset\")\n",
        "rows = 2\n",
        "columns = 2\n",
        "\n",
        "fig.add_subplot(rows, columns, 1)\n",
        "plt.imshow(imagenes[100],cmap = \"gray\")\n",
        "plt.axis('off')\n",
        "\n",
        "fig.add_subplot(rows, columns, 2)\n",
        "plt.imshow(imagenes[150],cmap = \"gray\")\n",
        "plt.axis('off')\n",
        "  \n",
        "\n",
        "fig.add_subplot(rows, columns, 3)\n",
        "plt.imshow(imagenes[201],cmap = \"gray\")\n",
        "plt.axis('off')\n",
        "\n",
        "fig.add_subplot(rows, columns, 4)\n",
        "plt.imshow(imagenes[250],cmap = \"gray\")\n",
        "plt.axis('off')\n",
        "\n",
        "plt.show()"
      ],
      "execution_count": 7,
      "outputs": [
        {
          "output_type": "display_data",
          "data": {
            "image/png": "[encoded data removed]",
            "text/plain": [
              "<Figure size 288x216 with 4 Axes>"
            ]
          },
          "metadata": {
            "needs_background": "light"
          }
        }
      ]
    },
    {
      "cell_type": "code",
      "metadata": {
        "colab": {
          "base_uri": "https://localhost:8080/",
          "height": 356
        },
        "id": "noyi1Fh4osky",
        "outputId": "25a2210a-2742-4d95-fbf6-e963fc1420ae"
      },
      "source": [
        "#Mostrando histogramas\n",
        "fig = plt.figure(figsize=(8, 5))\n",
        "fig.suptitle(\"Ejemplo de histogramas de algunas imágenes\")\n",
        "rows = 2\n",
        "columns = 2\n",
        "\n",
        "fig.add_subplot(rows, columns, 1)\n",
        "plt.hist(imagenes[100].ravel(),256,[0,256])\n",
        "\n",
        "fig.add_subplot(rows, columns, 2)\n",
        "plt.hist(imagenes[150].ravel(),256,[0,256])\n",
        "\n",
        "fig.add_subplot(rows, columns, 3)\n",
        "plt.hist(imagenes[201].ravel(),256,[0,256])\n",
        "\n",
        "fig.add_subplot(rows, columns, 4)\n",
        "plt.hist(imagenes[250].ravel(),256,[0,256])\n",
        "\n",
        "plt.show()"
      ],
      "execution_count": 8,
      "outputs": [
        {
          "output_type": "display_data",
          "data": {
            "image/png": "[encoded data removed]",
            "text/plain": [
              "<Figure size 576x360 with 4 Axes>"
            ]
          },
          "metadata": {
            "needs_background": "light"
          }
        }
      ]
    },
    {
      "cell_type": "markdown",
      "metadata": {
        "id": "tADPiXlgxcQz"
      },
      "source": [
        "<div style=\"text-align: justify;width:100%;margin: 0 auto\">\n",
        "En una imagen los pixeles con valor de 0 son aquellos considerados como color negro, mientras que los pixeles con valor de 255 pertenecen al color blanco. En este caso, se evidencia entonces que en un valor aproximadamente de 100 se da la división entre aquellos pixeles más oscuros y los más claros, lo cual permitiría hacer una segmentación de las imágenes ya que los valores más oscuros de la base de datos de las fotografías son el fondo y las gafas, mientras que los valores claros estarían en las pieles de las personas. \n",
        "</div>"
      ]
    },
    {
      "cell_type": "markdown",
      "metadata": {
        "id": "xxNeQjtflfAE"
      },
      "source": [
        "### **Procesamiento de imágenes**\n",
        "#### **Segmentación de las imágenes**\n",
        "<div style=\"text-align: justify;width:100%;margin: 0 auto\">\n",
        "Se aplica la tecnica de umbral, donde dado un valor limite, los valores menores se cambian a 0 y los mayores a 255, por lo que queda una imagen binarizada. Útil para resaltar caracteristicas de las imágenes.\n",
        "En este caso, como las imágenes se han tomado en ambientes controlados (mismo fondo, misma iluminación, las gafas son las mismas,etc) se aplica la umbralización con el objetivo de eliminar la mayoría del fondo, con el propósito de resaltar las gafas. Se utilizó un valor de 100 como umbral según la forma evidenciada en los histogramas.\n",
        "</div>"
      ]
    },
    {
      "cell_type": "code",
      "metadata": {
        "colab": {
          "base_uri": "https://localhost:8080/",
          "height": 216
        },
        "id": "PpJ01mnAGxb9",
        "outputId": "6c9154db-8861-4f0d-ed8b-3b2caa475c06"
      },
      "source": [
        "#Umbralización de las imagenes\n",
        "threshold_images = []\n",
        "for imagen in imagenes:\n",
        "  T,sal = cv.threshold(imagen,100,255,cv.THRESH_BINARY)\n",
        "  threshold_images.append(sal)\n",
        "\n",
        "\n",
        "#Mostrando ejemplos de umbralización de las imágenes\n",
        "fig = plt.figure(figsize=(4, 3))\n",
        "fig.suptitle(\"Resultados de aplicar umbralización en las imágenes\")\n",
        "rows = 2\n",
        "columns = 2\n",
        "\n",
        "fig.add_subplot(rows, columns, 1)\n",
        "plt.imshow(threshold_images[100],cmap = \"gray\")\n",
        "plt.axis('off')\n",
        "\n",
        "fig.add_subplot(rows, columns, 2)\n",
        "plt.imshow(threshold_images[150],cmap = \"gray\")\n",
        "plt.axis('off')\n",
        "  \n",
        "\n",
        "fig.add_subplot(rows, columns, 3)\n",
        "plt.imshow(threshold_images[201],cmap = \"gray\")\n",
        "plt.axis('off')\n",
        "\n",
        "fig.add_subplot(rows, columns, 4)\n",
        "plt.imshow(threshold_images[250],cmap = \"gray\")\n",
        "plt.axis('off')\n",
        "\n",
        "plt.show()"
      ],
      "execution_count": 10,
      "outputs": [
        {
          "output_type": "display_data",
          "data": {
            "image/png": "[encoded data removed]",
            "text/plain": [
              "<Figure size 288x216 with 4 Axes>"
            ]
          },
          "metadata": {
            "needs_background": "light"
          }
        }
      ]
    },
    {
      "cell_type": "markdown",
      "metadata": {
        "id": "9nQAyz510nW9"
      },
      "source": [
        "<div style=\"text-align: justify;width:100%;margin: 0 auto\">\n",
        "Después de realizar la umbralización, es posible evidenciar que en las fotografías de las personas con gafas, éstas quedan perfectamente identificadas en contraste con la piel de las personas, mientras que en el caso en que no tienen gafas, no quedan resaltadas características importantes más que los elementos del rostro, tales como ojos.\n",
        "</div>"
      ]
    },
    {
      "cell_type": "markdown",
      "metadata": {
        "id": "sQieqNZ7qElC"
      },
      "source": [
        "#### **Obteniendo las etiquetas de las imágenes**\n",
        "\n",
        "Se obtienen de los nombres de las imágenes la respectiva información para saber si tiene o no tiene gafas."
      ]
    },
    {
      "cell_type": "code",
      "metadata": {
        "id": "9gT9wcChqHHS"
      },
      "source": [
        "labels = []\n",
        "for image in files:\n",
        "  aux = image.split(\"_\")[3]\n",
        "  labels.append(aux[:-4])\n",
        "\n",
        "labels = np.array(labels)"
      ],
      "execution_count": null,
      "outputs": []
    },
    {
      "cell_type": "markdown",
      "metadata": {
        "id": "nsYSS_Q4pYAC"
      },
      "source": [
        "Debido a que algunos clasificadores no reciben las clases o etiquetas en forma de texto, se binarizan quedando de la siguiente manera:  \n",
        "* **0:** imagen de persona que **NO** tiene gafas  \n",
        "* **1:** imagen de persona que **SI** tiene gafas"
      ]
    },
    {
      "cell_type": "code",
      "metadata": {
        "id": "rT15C35gwN8O"
      },
      "source": [
        "#Binarizando las etiquetas\n",
        "lb = preprocessing.LabelBinarizer()\n",
        "labels = lb.fit_transform(labels)"
      ],
      "execution_count": null,
      "outputs": []
    },
    {
      "cell_type": "markdown",
      "metadata": {
        "id": "9uftL0qTqosl"
      },
      "source": [
        "### **Desarrollo del clasificador**\n",
        "\n",
        "#### **Modelo 1: máquinas de soporte vectorial**\n",
        "<div style=\"text-align: justify;width:100%;margin: 0 auto\">\n",
        "Se utilizará como clasificador una máquina de vectores de soporte, esta técnica utiliza un hiperplano para separar las muestras de datos a dos o más espacios lo más amplio posibles (depende de las clases). Las observaciones que queden más cercanas al hiperplano se les llama vectores soporte y son los que definen el clasificador obtenido.\n",
        "Tiene un hiperparámetro C que controla la penalización de errores de clasificación, entre más cerca de cero, menos se penalizan.\n",
        "</div>\n",
        "\n",
        "<br>\n",
        "\n",
        "<div style=\"text-align: justify;width:100%;margin: 0 auto\">\n",
        "Esta separación no solo se puede hacer de forma lineal, si no que se puede utilizar funciones Kernel (polinómico, radial,etc) para obtener un espacio de mayor dimensionalidad. Por lo que tienen un parámetro gamma que ayuda a controlar la flexibilidad del modelo. \n",
        "</div>"
      ]
    },
    {
      "cell_type": "code",
      "metadata": {
        "id": "Z49YDygY3BXC"
      },
      "source": [
        "#Aplanamiento de imagenes\n",
        "flatten_images = []\n",
        "for image in threshold_images:\n",
        "  flatten_images.append(image.flatten())"
      ],
      "execution_count": null,
      "outputs": []
    },
    {
      "cell_type": "markdown",
      "metadata": {
        "id": "uS5fmyhGpMD4"
      },
      "source": [
        "#### **Entrenamiento del modelo SVM**\n",
        "Se dividen los datos en entrenamiento y validación, en este caso, por elección de los autores, se selecciona un conjunto de entrenamiento del 80% de los datos que se tienen, lo que equivale a 499 imágenes."
      ]
    },
    {
      "cell_type": "code",
      "metadata": {
        "id": "Stk56m30pLcV"
      },
      "source": [
        "X_train,X_test,y_train,y_test = train_test_split(flatten_images,\n",
        "                                                 labels.ravel(),\n",
        "                                                 train_size = 0.8,\n",
        "                                                 random_state = 1234,\n",
        "                                                 shuffle = True\n",
        "                                                 )"
      ],
      "execution_count": null,
      "outputs": []
    },
    {
      "cell_type": "markdown",
      "metadata": {
        "id": "5Ypj5OjhWhF-"
      },
      "source": [
        "Se utilizará validación cruzada para obtener los mejores parámetros de C, Gamma y kernel para el modelo basado en máquinas de vectores de soporte."
      ]
    },
    {
      "cell_type": "code",
      "metadata": {
        "id": "JqRKgMv38bPE"
      },
      "source": [
        "param_grid = {'C':[0.1,1,10,100],'gamma':[0.0001,0.001,0.1,1],'kernel':['linear','rbf','poly']}\n",
        "\n",
        "svc = SVC(probability=True)\n",
        "model = GridSearchCV(svc,param_grid)"
      ],
      "execution_count": null,
      "outputs": []
    },
    {
      "cell_type": "code",
      "metadata": {
        "colab": {
          "base_uri": "https://localhost:8080/"
        },
        "id": "p3oDQHXF8-TU",
        "outputId": "0370c8b4-ef87-47cd-816b-2e2a0a15d99b"
      },
      "source": [
        "#Buscamos los mejores parámetros\n",
        "model.fit(X_train,y_train)"
      ],
      "execution_count": null,
      "outputs": [
        {
          "data": {
            "text/plain": [
              "GridSearchCV(cv=None, error_score=nan,\n",
              "             estimator=SVC(C=1.0, break_ties=False, cache_size=200,\n",
              "                           class_weight=None, coef0=0.0,\n",
              "                           decision_function_shape='ovr', degree=3,\n",
              "                           gamma='scale', kernel='rbf', max_iter=-1,\n",
              "                           probability=True, random_state=None, shrinking=True,\n",
              "                           tol=0.001, verbose=False),\n",
              "             iid='deprecated', n_jobs=None,\n",
              "             param_grid={'C': [0.1, 1, 10, 100],\n",
              "                         'gamma': [0.0001, 0.001, 0.1, 1],\n",
              "                         'kernel': ['linear', 'rbf', 'poly']},\n",
              "             pre_dispatch='2*n_jobs', refit=True, return_train_score=False,\n",
              "             scoring=None, verbose=0)"
            ]
          },
          "execution_count": 59,
          "metadata": {},
          "output_type": "execute_result"
        }
      ]
    },
    {
      "cell_type": "markdown",
      "metadata": {
        "id": "j88eWQnV127M"
      },
      "source": [
        "Los mejores parámetros encontrados en el modelo son:"
      ]
    },
    {
      "cell_type": "code",
      "metadata": {
        "colab": {
          "base_uri": "https://localhost:8080/"
        },
        "id": "0z5mrlDO9paO",
        "outputId": "cf3573c4-0d32-4a08-87c3-65901b45a0f7"
      },
      "source": [
        "print(\"C:\",model.best_params_[\"C\"])\n",
        "print(\"Gamma:\",model.best_params_[\"gamma\"])\n",
        "print(\"Kernel:\",model.best_params_[\"kernel\"])"
      ],
      "execution_count": null,
      "outputs": [
        {
          "name": "stdout",
          "output_type": "stream",
          "text": [
            "C: 0.1\n",
            "Gamma: 0.0001\n",
            "Kernel: linear\n"
          ]
        }
      ]
    },
    {
      "cell_type": "markdown",
      "metadata": {
        "id": "iJk-BMjD2mhm"
      },
      "source": [
        "#### **Visualizando desempeño del modelo**"
      ]
    },
    {
      "cell_type": "code",
      "metadata": {
        "colab": {
          "base_uri": "https://localhost:8080/",
          "height": 204
        },
        "id": "dwJoO4-Fw7Yo",
        "outputId": "ca7a8cb9-935f-480b-eeac-9b2ca6c04c4a"
      },
      "source": [
        "pred = model.predict(X_test)\n",
        "Classification_report_svm = classification_report(y_test,pred,labels=[0,1],target_names=[\"No tiene gafas\",\"Tiene gafas\"],output_dict=True)\n",
        "Dataframe_score = pd.DataFrame(Classification_report_svm).T\n",
        "Dataframe_score.round(2)"
      ],
      "execution_count": null,
      "outputs": [
        {
          "data": {
            "text/html": [
              "<div>\n",
              "<style scoped>\n",
              "    .dataframe tbody tr th:only-of-type {\n",
              "        vertical-align: middle;\n",
              "    }\n",
              "\n",
              "    .dataframe tbody tr th {\n",
              "        vertical-align: top;\n",
              "    }\n",
              "\n",
              "    .dataframe thead th {\n",
              "        text-align: right;\n",
              "    }\n",
              "</style>\n",
              "<table border=\"1\" class=\"dataframe\">\n",
              "  <thead>\n",
              "    <tr style=\"text-align: right;\">\n",
              "      <th></th>\n",
              "      <th>precision</th>\n",
              "      <th>recall</th>\n",
              "      <th>f1-score</th>\n",
              "      <th>support</th>\n",
              "    </tr>\n",
              "  </thead>\n",
              "  <tbody>\n",
              "    <tr>\n",
              "      <th>No tiene gafas</th>\n",
              "      <td>0.93</td>\n",
              "      <td>0.96</td>\n",
              "      <td>0.94</td>\n",
              "      <td>52.00</td>\n",
              "    </tr>\n",
              "    <tr>\n",
              "      <th>Tiene gafas</th>\n",
              "      <td>0.97</td>\n",
              "      <td>0.95</td>\n",
              "      <td>0.96</td>\n",
              "      <td>73.00</td>\n",
              "    </tr>\n",
              "    <tr>\n",
              "      <th>accuracy</th>\n",
              "      <td>0.95</td>\n",
              "      <td>0.95</td>\n",
              "      <td>0.95</td>\n",
              "      <td>0.95</td>\n",
              "    </tr>\n",
              "    <tr>\n",
              "      <th>macro avg</th>\n",
              "      <td>0.95</td>\n",
              "      <td>0.95</td>\n",
              "      <td>0.95</td>\n",
              "      <td>125.00</td>\n",
              "    </tr>\n",
              "    <tr>\n",
              "      <th>weighted avg</th>\n",
              "      <td>0.95</td>\n",
              "      <td>0.95</td>\n",
              "      <td>0.95</td>\n",
              "      <td>125.00</td>\n",
              "    </tr>\n",
              "  </tbody>\n",
              "</table>\n",
              "</div>"
            ],
            "text/plain": [
              "                precision  recall  f1-score  support\n",
              "No tiene gafas       0.93    0.96      0.94    52.00\n",
              "Tiene gafas          0.97    0.95      0.96    73.00\n",
              "accuracy             0.95    0.95      0.95     0.95\n",
              "macro avg            0.95    0.95      0.95   125.00\n",
              "weighted avg         0.95    0.95      0.95   125.00"
            ]
          },
          "execution_count": 97,
          "metadata": {},
          "output_type": "execute_result"
        }
      ]
    },
    {
      "cell_type": "markdown",
      "metadata": {
        "id": "BfSwnjzA2Kjs"
      },
      "source": [
        "Teniendo en cuenta las medidas de precisión, recall, f1-score se obtienen las diferentes métricas de desempeño. Como se evidencia en la tabla anterior, el porcentaje de casos en los que el modelo acierta es del 95%, lo cual demuestra que el modelo creado por medio de la técnica de máquinas de soporte vectorial es bueno. Adicionalmente, se evidencia que las demás métricas de desempeño se encuentran por encima del 95%"
      ]
    },
    {
      "cell_type": "code",
      "metadata": {
        "colab": {
          "base_uri": "https://localhost:8080/",
          "height": 376
        },
        "id": "I98yvafzupS4",
        "outputId": "414f1d1e-1db2-484e-9d1a-dbcbacf42aca"
      },
      "source": [
        "matriz_conf_svm = plot_confusion_matrix(model,X_test,y_test,display_labels=[\"No tiene gafas\",\"Tiene gafas\"],cmap=plt.cm.Blues)\n",
        "matriz_conf_svm.ax_.set_title(\"Matriz de confusión\")\n",
        "plt.show()"
      ],
      "execution_count": null,
      "outputs": [
        {
          "data": {
            "image/png": "[encoded data removed]",
            "text/plain": [
              "<Figure size 576x396 with 2 Axes>"
            ]
          },
          "metadata": {},
          "output_type": "display_data"
        }
      ]
    },
    {
      "cell_type": "markdown",
      "metadata": {
        "id": "TcFm6UeP3NmQ"
      },
      "source": [
        "En la matriz de confusión, se observa que al aplicar el modelo al conjunto de datos de validación, que corresponde al 20% de la base de datos, es decir, a 125 datos, la mayoría de los resultados que se obtienen son verdaderos positivos, es decir, que el modelo clasifica a las personas que si tienen gafas como personas que si tienen gafas en una frecuencia de 69 datos, por otro lado, siguen los verdaderos negativos, lo que equivale a decir que el modelo clasifica a las personas que no tienen gafas como personas que no tienen gafas, con una frecuencia de 50 datos. De estos resultados, se evidencia que el modelo tiene una frecuencia de error de 6 datos, lo cual se esperaba con las métricas de desempeño hechas anteriormente."
      ]
    },
    {
      "cell_type": "markdown",
      "metadata": {
        "id": "-OnT-Lk7D3Ri"
      },
      "source": [
        "#### **Modelo 2: k vecinos más cercanos (KNN)**\n",
        "\n",
        "Se desarrolla un segundo clasificador utilizando el método de los **k** vecinos más cercanos con ayuda de los conocimientos previos."
      ]
    },
    {
      "cell_type": "code",
      "metadata": {
        "id": "CvOvl6fRASjB"
      },
      "source": [
        "#Se normalizan las imágenes\n",
        "normalizadas = []\n",
        "for image in threshold_images:\n",
        "  normalizadas.append(image/255)\n",
        "\n",
        "normalizadas = np.array(normalizadas)\n",
        "\n",
        "#Se dividen los datos en entrenamiento y validación.\n",
        "\n",
        "X_train, X_test, y_train, y_test = train_test_split(normalizadas,labels.flatten(),random_state = 42,test_size = 0.2)\n",
        "\n",
        "X_train = np.reshape(X_train,(X_train.shape[0],-1))\n",
        "X_test = np.reshape(X_test,(X_test.shape[0],-1))"
      ],
      "execution_count": null,
      "outputs": []
    },
    {
      "cell_type": "markdown",
      "metadata": {
        "id": "OTyM3jsxDpDR"
      },
      "source": [
        "Se busca el mejor valor de **k** para entrenar el modelo, se hace corriendo modelos KNN con valores de **k** desde 1 a 50, y se grafica la tasa de error con referencia al valor **k** respectivo, buscando minimizar la tasa de error."
      ]
    },
    {
      "cell_type": "code",
      "metadata": {
        "colab": {
          "base_uri": "https://localhost:8080/",
          "height": 421
        },
        "id": "0ZD-QXxrHBQq",
        "outputId": "cc25e42d-dffa-4ff0-bfb2-c7b06815beb8"
      },
      "source": [
        "#Buscando el mejor K\n",
        "error_rate = []\n",
        "\n",
        "for k in range(1,50):\n",
        "  neigh = KNeighborsClassifier(n_neighbors=k)\n",
        "  neigh.fit(X_train,y_train)\n",
        "  pred_i = neigh.predict(X_test)\n",
        "  error_rate.append(np.mean(pred_i != y_test))\n",
        "\n",
        "plt.figure(figsize=(10,6))\n",
        "plt.plot(range(1,50),error_rate,color='gray',linestyle='dotted',marker='o',markerfacecolor = 'black',markersize = 10)\n",
        "plt.title('Error Rate vs K value')\n",
        "plt.xlabel('K')\n",
        "plt.ylabel('Error Rate')"
      ],
      "execution_count": null,
      "outputs": [
        {
          "data": {
            "text/plain": [
              "Text(0, 0.5, 'Error Rate')"
            ]
          },
          "execution_count": 16,
          "metadata": {},
          "output_type": "execute_result"
        },
        {
          "data": {
            "image/png": "[encoded data removed]",
            "text/plain": [
              "<Figure size 720x432 with 1 Axes>"
            ]
          },
          "metadata": {
            "needs_background": "light"
          },
          "output_type": "display_data"
        }
      ]
    },
    {
      "cell_type": "markdown",
      "metadata": {
        "id": "dYcbBZk8F64S"
      },
      "source": [
        "Según la gráfica, el **k** que minimiza el error es k=1 y por lo tanto, se procede con este valor."
      ]
    },
    {
      "cell_type": "code",
      "metadata": {
        "colab": {
          "base_uri": "https://localhost:8080/"
        },
        "id": "H9IO4XNrF5Xp",
        "outputId": "227123c4-22cd-4dde-a3ec-9128e49e1b54"
      },
      "source": [
        "print(\"Error mínimo: \",round(min(error_rate),2), \"en K =\",error_rate.index(min(error_rate))+1)"
      ],
      "execution_count": null,
      "outputs": [
        {
          "name": "stdout",
          "output_type": "stream",
          "text": [
            "Error mínimo:  0.1 en K = 1\n"
          ]
        }
      ]
    },
    {
      "cell_type": "markdown",
      "metadata": {
        "id": "nynbUjp5RZuZ"
      },
      "source": [
        "Se entrena el modelo con k=1 y se visualiza el desempeño del modelo."
      ]
    },
    {
      "cell_type": "code",
      "metadata": {
        "id": "lpmF8mwUQ--K"
      },
      "source": [
        "#Entrenamieto del modelo\n",
        "knn_model = KNeighborsClassifier(n_neighbors=1).fit(X_train,y_train)"
      ],
      "execution_count": null,
      "outputs": []
    },
    {
      "cell_type": "code",
      "metadata": {
        "colab": {
          "base_uri": "https://localhost:8080/",
          "height": 204
        },
        "id": "Y5X3UggrTf3m",
        "outputId": "88d99c16-1782-49b0-fa1b-dd7aca46dac8"
      },
      "source": [
        "#Metricas de desempeño\n",
        "pred = knn_model.predict(X_test)\n",
        "Classification_report_knn = classification_report(y_test,pred,labels=[0,1],target_names=[\"No tiene gafas\",\"Tiene gafas\"],output_dict=True)\n",
        "Dataframe_score_knn = pd.DataFrame(Classification_report_knn).T\n",
        "Dataframe_score_knn.round(2)"
      ],
      "execution_count": null,
      "outputs": [
        {
          "data": {
            "text/html": [
              "<div>\n",
              "<style scoped>\n",
              "    .dataframe tbody tr th:only-of-type {\n",
              "        vertical-align: middle;\n",
              "    }\n",
              "\n",
              "    .dataframe tbody tr th {\n",
              "        vertical-align: top;\n",
              "    }\n",
              "\n",
              "    .dataframe thead th {\n",
              "        text-align: right;\n",
              "    }\n",
              "</style>\n",
              "<table border=\"1\" class=\"dataframe\">\n",
              "  <thead>\n",
              "    <tr style=\"text-align: right;\">\n",
              "      <th></th>\n",
              "      <th>precision</th>\n",
              "      <th>recall</th>\n",
              "      <th>f1-score</th>\n",
              "      <th>support</th>\n",
              "    </tr>\n",
              "  </thead>\n",
              "  <tbody>\n",
              "    <tr>\n",
              "      <th>No tiene gafas</th>\n",
              "      <td>0.92</td>\n",
              "      <td>0.84</td>\n",
              "      <td>0.88</td>\n",
              "      <td>56.0</td>\n",
              "    </tr>\n",
              "    <tr>\n",
              "      <th>Tiene gafas</th>\n",
              "      <td>0.88</td>\n",
              "      <td>0.94</td>\n",
              "      <td>0.91</td>\n",
              "      <td>69.0</td>\n",
              "    </tr>\n",
              "    <tr>\n",
              "      <th>accuracy</th>\n",
              "      <td>0.90</td>\n",
              "      <td>0.90</td>\n",
              "      <td>0.90</td>\n",
              "      <td>0.9</td>\n",
              "    </tr>\n",
              "    <tr>\n",
              "      <th>macro avg</th>\n",
              "      <td>0.90</td>\n",
              "      <td>0.89</td>\n",
              "      <td>0.89</td>\n",
              "      <td>125.0</td>\n",
              "    </tr>\n",
              "    <tr>\n",
              "      <th>weighted avg</th>\n",
              "      <td>0.90</td>\n",
              "      <td>0.90</td>\n",
              "      <td>0.90</td>\n",
              "      <td>125.0</td>\n",
              "    </tr>\n",
              "  </tbody>\n",
              "</table>\n",
              "</div>"
            ],
            "text/plain": [
              "                precision  recall  f1-score  support\n",
              "No tiene gafas       0.92    0.84      0.88     56.0\n",
              "Tiene gafas          0.88    0.94      0.91     69.0\n",
              "accuracy             0.90    0.90      0.90      0.9\n",
              "macro avg            0.90    0.89      0.89    125.0\n",
              "weighted avg         0.90    0.90      0.90    125.0"
            ]
          },
          "execution_count": 19,
          "metadata": {},
          "output_type": "execute_result"
        }
      ]
    },
    {
      "cell_type": "markdown",
      "metadata": {
        "id": "xfkkosAG6XcW"
      },
      "source": [
        "Teniendo en cuenta las medidas de precisión, recall, f1-score se obtienen las diferentes métricas de desempeño. Como se evidencia en la tabla anterior, el porcentaje de casos en los que el modelo acierta es del 90%, lo cual demuestra que el modelo creado por medio de la técnica de KNN es bueno. Adicionalmente, se evidencia que las demás métricas se encuentran por encima del 84%."
      ]
    },
    {
      "cell_type": "code",
      "metadata": {
        "colab": {
          "base_uri": "https://localhost:8080/",
          "height": 295
        },
        "id": "mOMMI2hwHcz6",
        "outputId": "6305ab44-7ce3-4128-bb08-b9b7a3bc83a8"
      },
      "source": [
        "#Matriz de confusión\n",
        "matriz_conf_knn = plot_confusion_matrix(knn_model,X_test,y_test,display_labels=[\"No tiene gafas\",\"Tiene gafas\"],cmap=plt.cm.Blues)\n",
        "matriz_conf_knn.ax_.set_title(\"Matriz de confusión\")\n",
        "plt.show()"
      ],
      "execution_count": null,
      "outputs": [
        {
          "data": {
            "image/png": "[encoded data removed]",
            "text/plain": [
              "<Figure size 432x288 with 2 Axes>"
            ]
          },
          "metadata": {
            "needs_background": "light"
          },
          "output_type": "display_data"
        }
      ]
    },
    {
      "cell_type": "markdown",
      "metadata": {
        "id": "vuPI11V46xcf"
      },
      "source": [
        "En la matriz de confusión, se observa que al aplicar el modelo al conjunto de datos de validación, que corresponde al 20% de la base de datos, es decir, a 125 datos, la mayoría de los resultados que se obtienen son verdaderos positivos, es decir, que el modelo clasifica a las personas que si tienen gafas como personas que si tienen gafas en una frecuencia de 65 datos, por otro lado, siguen los verdaderos negativos, lo que equivale a decir que el modelo clasifica a las personas que no tienen gafas como personas que no tienen gafas, con una frecuencia de 47 datos. De estos resultados, se evidencia que el modelo tiene una frecuencia de error de 13 datos, lo cual se esperaba con las métricas de desempeño hechas anteriormente."
      ]
    },
    {
      "cell_type": "markdown",
      "metadata": {
        "id": "oNWV94-4IcPJ"
      },
      "source": [
        "### **Conclusiones**\n",
        "* El modelo de clasificación basado en máquinas de soporte vectorial tuvo muy buenos resultados, esto puede ser porque los datos son linealmente separables debido a que las imágenes fueron realizadas en ambientes controlados, lo que facilita el reconocimiento de características útiles en las imágenes. Además, las máquinas de soporte vectorial son eficaces con datos de alta dimensionalidad, como es este caso.\n",
        " \n",
        "* El modelo de clasificación basado en los k vecinos más cercanos obtuvo buenos resultados teniendo en cuenta que este método puede tener el problema de la maldición de la dimensionalidad, pero debido a la simplicidad de las imágenes, es capaz de diferenciarlas correctamente. El valor del mejor k (k=1) se atribuye a la similaridad que hay con los datos de entrenamiento y validación.\n",
        "\n",
        "* Teniendo en cuenta los resultados de los dos modelos implementados, se selecciona el clasificador desarrollado por medio de máquinas de soporte vectorial, dado que entre este y KNN se obtiene un 5% menos de error.\n"
      ]
    },
    {
      "cell_type": "markdown",
      "metadata": {
        "id": "ipT3xGPdvHiq"
      },
      "source": [
        "### **Referencias**\n",
        "* [1]. M. Hoai Nguyen, J. Pérez y F. De la Torre, \"Facial Feature Detection with Optimal Pixel Reduction SVM\", IEEE, agosto de 2008.\n",
        "* [2]. J. Amat Rodrigo. \"Máquinas de Vector Soporte (Support Vector Machines, SVMs)\". Cienciadedatos. Disponible en: https://www.cienciadedatos.net/documentos/34_maquinas_de_vector_soporte_support_vector_machines [accedido el 16 de agosto de 2021].\n",
        "* [3]. Anónimo. Clasificación de Imágenes en Python. Disponible en: https://www.aprendemachinelearning.com/clasificacion-de-imag [accedido el 16 de agosto de 2021].\n",
        "* [4]. \"UCI Machine Learning Repository: Center for Machine Learning and Intelligent Systems\". CMU Face Images Data Set. Disponible en: https://archive.ics.uci.edu/ml/datasets/CMU+Face+Images [accedido el 16 de agosto de 2021].\n",
        "* [5]A. Brand, \"How to find the optimal value of K in KNN?\", Medium, 2020. Disponible en: https://towardsdatascience.com/how-to-find-the-optimal-value-of-k-in-knn-35d936e554eb. [accedido el 16 de agosto de 2021].\n",
        "* [6]C. Gil Martinez, \"RPubs - Máquinas de Vector Soporte\", Rpubs.com, 2018. Disponible en: https://rpubs.com/Cristina_Gil/SVM. [accedido el 16 de agosto de 2021].\n"
      ]
    }
  ]
}